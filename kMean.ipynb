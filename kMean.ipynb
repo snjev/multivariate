{
 "cells": [
  {
   "cell_type": "code",
   "execution_count": 31,
   "metadata": {},
   "outputs": [
    {
     "name": "stdout",
     "output_type": "stream",
     "text": [
      "(array([[2.21604423, 2.12052624, 2.03936188, 1.78935837, 0.61495658,\n",
      "        0.387193  , 0.93938713, 0.90956674, 0.71090517, 0.28170756,\n",
      "        0.86277293, 1.00045984, 0.35519844, 0.55274219, 0.64049632]]), 3.066795199212523)\n",
      "(array([[2.21604423, 2.12052624, 2.03936188, 1.78935837, 0.61495658,\n",
      "        0.387193  , 0.93938713, 0.90956674, 0.71090517, 0.28170756,\n",
      "        0.86277293, 1.00045984, 0.35519844, 0.55274219, 0.64049632]]), 3.066795199212523)\n",
      "(array([[2.21604423, 2.12052624, 2.03936188, 1.78935837, 0.61495658,\n",
      "        0.387193  , 0.93938713, 0.90956674, 0.71090517, 0.28170756,\n",
      "        0.86277293, 1.00045984, 0.35519844, 0.55274219, 0.64049632]]), 3.066795199212523)\n"
     ]
    }
   ],
   "source": [
    "import numpy as np\n",
    "import pandas as pd\n",
    "import seaborn as sb\n",
    "from scipy.cluster.vq import vq, kmeans, whiten\n",
    "\n",
    "dataset = pd.read_csv('Facebook_metrics/dataset_Facebook.csv',delimiter=';')\n",
    "del dataset['Page total likes']\n",
    "del dataset['Type']\n",
    "del dataset['Paid']\n",
    "del dataset['Total Interactions']\n",
    "dataset = dataset.dropna(how='any',axis=0)\n",
    "#dataset = dataset.T\n",
    "features = np.array(dataset)\n",
    "whitened = whiten(features)\n",
    "for i in range(3):\n",
    "    book = np.array((whitened[i],))\n",
    "    print(kmeans(whitened,book,iter=100,thresh=1e-05))\n"
   ]
  },
  {
   "cell_type": "code",
   "execution_count": null,
   "metadata": {},
   "outputs": [],
   "source": []
  },
  {
   "cell_type": "code",
   "execution_count": null,
   "metadata": {},
   "outputs": [],
   "source": []
  },
  {
   "cell_type": "code",
   "execution_count": null,
   "metadata": {},
   "outputs": [],
   "source": []
  }
 ],
 "metadata": {
  "kernelspec": {
   "display_name": "Python 3",
   "language": "python",
   "name": "python3"
  },
  "language_info": {
   "codemirror_mode": {
    "name": "ipython",
    "version": 3
   },
   "file_extension": ".py",
   "mimetype": "text/x-python",
   "name": "python",
   "nbconvert_exporter": "python",
   "pygments_lexer": "ipython3",
   "version": "3.7.1"
  }
 },
 "nbformat": 4,
 "nbformat_minor": 2
}
